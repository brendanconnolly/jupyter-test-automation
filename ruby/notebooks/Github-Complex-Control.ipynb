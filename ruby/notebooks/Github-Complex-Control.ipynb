{
 "cells": [
  {
   "cell_type": "markdown",
   "metadata": {},
   "source": [
    "# Github Testing Example\n",
    "In this notebook we will\n",
    "- Create a new repository\n",
    "- Add a file to `master` branch \n",
    "- Create a new branch\n",
    "- Create a pull request for a change to the file added\n",
    "- Allow user to View/ Interact with the File Differences in pull request \n",
    "- Delete the repository\n",
    "\n",
    "## Purpose\n",
    "- Demonstrate Automating a Complex series of setup steps\n",
    "- Demonstrate allowing hands on intervention -or- exploratory testing in the middle of a test flow\n",
    "\n",
    "\n",
    "### Setup and Create Repository\n",
    "\n"
   ]
  },
  {
   "cell_type": "code",
   "execution_count": null,
   "metadata": {
    "jupyter": {
     "source_hidden": true
    }
   },
   "outputs": [],
   "source": [
    "require './notebook_helpers.rb'\n",
    "require './browser_helper.rb'\n",
    "require '../lib/github_helper.rb'\n",
    "\n",
    "repository_name= \"Testing with Notebooks #{Time.now.to_i}\"\n",
    "\n",
    "@github_api = GitHubHelper.setup_api_client\n",
    "\n",
    "@github_api_helper= GitHubHelper.new(@github_api)\n",
    "create_repo_response_data= @github_api_helper.create_repository(repository_name)\n",
    "@github_api_helper.set_repository(create_repo_response_data.name)\n",
    "\n",
    "initial_user =@github_api_helper.user_info('mr big', 'mister@big.com')\n",
    "pull_request_user =@github_api_helper.user_info('woofies', 'woffies@isthebest.com')\n",
    "\n",
    "ap \"created repo #{create_repo_response_data.name}\"\n",
    "display_link(create_repo_response_data.html_url)"
   ]
  },
  {
   "cell_type": "markdown",
   "metadata": {},
   "source": [
    "### Add file to master branch"
   ]
  },
  {
   "cell_type": "code",
   "execution_count": null,
   "metadata": {
    "jupyter": {
     "source_hidden": true
    }
   },
   "outputs": [],
   "source": [
    "path ='folder1/test1.txt'\n",
    "contents = \"In the beginning\"\n",
    "commit_message= \"I'm first\"\n",
    "\n",
    "new_file_git_data = @github_api_helper.add_new_file(\"master\",path,commit_message,contents, initial_user)\n",
    "new_file_sha= new_file_git_data.content.sha\n",
    "ap \"We can display data a tester frequently needs\"\n",
    "ap \"New File Sha #{new_file_sha}\""
   ]
  },
  {
   "cell_type": "markdown",
   "metadata": {},
   "source": [
    "### create branch off of master"
   ]
  },
  {
   "cell_type": "code",
   "execution_count": null,
   "metadata": {
    "jupyter": {
     "source_hidden": true
    }
   },
   "outputs": [],
   "source": [
    "branch_name ='bc/testing'\n",
    "create_branch_response= @github_api_helper.create_branch(branch_name)\n",
    "ap \"Create Branch Api Response \"\n",
    "ap create_branch_response"
   ]
  },
  {
   "cell_type": "markdown",
   "metadata": {},
   "source": [
    "### add file to that branch"
   ]
  },
  {
   "cell_type": "code",
   "execution_count": null,
   "metadata": {
    "jupyter": {
     "source_hidden": true
    }
   },
   "outputs": [],
   "source": [
    "path ='folder1/test1.txt'\n",
    "contents = \"using another\"\n",
    "commit_message= \"very commited\"\n",
    "update_response= @github_api_helper.update_file(new_file_sha,branch_name,path,commit_message,contents, pull_request_user)\n",
    "\n",
    "ap \"Link to File In Branch\"\n",
    "display_link(update_response.content.html_url)"
   ]
  },
  {
   "cell_type": "markdown",
   "metadata": {},
   "source": [
    "### create the pull request"
   ]
  },
  {
   "cell_type": "code",
   "execution_count": null,
   "metadata": {
    "jupyter": {
     "source_hidden": true
    }
   },
   "outputs": [],
   "source": [
    "pull_request_title= 'Pulling out all the stops'\n",
    "pull_request_description=\"This is going to be sooo good\"\n",
    "pull_request_response= @github_api_helper.create_pull_request(branch_name,pull_request_title, pull_request_description)\n",
    "\n",
    "ap \"Link to Pull Request\"\n",
    "display_link(pull_request_response.html_url)"
   ]
  },
  {
   "cell_type": "markdown",
   "metadata": {},
   "source": [
    "### Imagine a common test with some steps that are\n",
    "### *Difficult* / *Impossible* / *Unreliable* to automate\n",
    "\n",
    "Click link above and view the `files changed tab`\n",
    "\n",
    "#### *That Diff view looks complex* \n",
    "\n",
    "- It may be hard to automate\n",
    "- It looks like a good place to exploratory test\n",
    "\n",
    "\n",
    "\n",
    "**Manual steps can be described / documented here**\n",
    "\n"
   ]
  },
  {
   "cell_type": "markdown",
   "metadata": {},
   "source": [
    "### Automated steps continue..."
   ]
  },
  {
   "cell_type": "markdown",
   "metadata": {},
   "source": []
  },
  {
   "cell_type": "markdown",
   "metadata": {},
   "source": [
    "### Delete Repository"
   ]
  },
  {
   "cell_type": "code",
   "execution_count": null,
   "metadata": {
    "jupyter": {
     "source_hidden": true
    }
   },
   "outputs": [],
   "source": [
    "@github_api_helper.delete_repository"
   ]
  }
 ],
 "metadata": {
  "kernelspec": {
   "display_name": "Ruby 2.7.0",
   "language": "ruby",
   "name": "ruby"
  },
  "language_info": {
   "file_extension": ".rb",
   "mimetype": "application/x-ruby",
   "name": "ruby",
   "version": "2.7.0"
  }
 },
 "nbformat": 4,
 "nbformat_minor": 4
}
