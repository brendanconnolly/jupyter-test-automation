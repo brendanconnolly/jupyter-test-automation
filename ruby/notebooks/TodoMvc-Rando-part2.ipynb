{
 "cells": [
  {
   "cell_type": "markdown",
   "metadata": {},
   "source": [
    "# TodoMvc \n",
    "## Random Todo Part 2\n",
    "\n",
    "**Inspired by Alan Richardson (@EvilTester) in his Test Automation U JavaScript Course [Automating in the Browser Using JavaScript](https://testautomationu.applitools.com/automating-in-the-browser-using-javascript/)**\n",
    "\n",
    "Instead of using JavaScript inside Chrome DevTools we'll use:\n",
    "- Jupyter Notebooks\n",
    "- Ruby\n",
    "- Watir (a Ruby Selenium Wrapper)\n",
    "- Already written automation code"
   ]
  },
  {
   "cell_type": "markdown",
   "metadata": {},
   "source": [
    "#### Setup Watir & Selenium\n",
    "\n",
    "The cell below will need to be run before running any other cells"
   ]
  },
  {
   "cell_type": "code",
   "execution_count": null,
   "metadata": {},
   "outputs": [],
   "source": [
    "require './browser_helper.rb'\n",
    "require './notebook_helpers.rb'\n",
    "require '../lib/random_todo_mvc.rb'\n",
    "\n",
    "todo_mvc_app_url= \"http://todomvc.com/examples/vanillajs/\"\n",
    "browser = launch_browser\n",
    "\n",
    "random_todo_mvc= RandomAutoTodoMvc.new(browser)\n",
    "browser.goto(todo_mvc_app_url)"
   ]
  },
  {
   "cell_type": "markdown",
   "metadata": {},
   "source": [
    "## Randomized Todo Actions\n",
    "\n",
    "**Create**"
   ]
  },
  {
   "cell_type": "code",
   "execution_count": null,
   "metadata": {},
   "outputs": [],
   "source": [
    "random_todo_mvc.create_random_todo"
   ]
  },
  {
   "cell_type": "markdown",
   "metadata": {},
   "source": [
    "**Update**"
   ]
  },
  {
   "cell_type": "code",
   "execution_count": null,
   "metadata": {},
   "outputs": [],
   "source": [
    "random_todo_mvc.update_random_todo"
   ]
  },
  {
   "cell_type": "markdown",
   "metadata": {},
   "source": [
    "**Delete**"
   ]
  },
  {
   "cell_type": "code",
   "execution_count": null,
   "metadata": {},
   "outputs": [],
   "source": [
    "random_todo_mvc.delete_random_todo"
   ]
  },
  {
   "cell_type": "markdown",
   "metadata": {},
   "source": [
    "**Toggle**"
   ]
  },
  {
   "cell_type": "code",
   "execution_count": null,
   "metadata": {},
   "outputs": [],
   "source": [
    "random_todo_mvc.toggle_random_todo"
   ]
  },
  {
   "cell_type": "markdown",
   "metadata": {},
   "source": [
    "## Filter, Toggle, Clear\n",
    "**Toggle all**"
   ]
  },
  {
   "cell_type": "code",
   "execution_count": null,
   "metadata": {},
   "outputs": [],
   "source": [
    "random_todo_mvc.toggle_all"
   ]
  },
  {
   "cell_type": "markdown",
   "metadata": {},
   "source": [
    "**Clear Completed Todos**"
   ]
  },
  {
   "cell_type": "code",
   "execution_count": null,
   "metadata": {},
   "outputs": [],
   "source": [
    "random_todo_mvc.clear_completed_todos"
   ]
  },
  {
   "cell_type": "markdown",
   "metadata": {},
   "source": [
    "## Filter Todo's\n",
    "\n",
    "**All**"
   ]
  },
  {
   "cell_type": "code",
   "execution_count": null,
   "metadata": {},
   "outputs": [],
   "source": [
    "random_todo_mvc.filter_all"
   ]
  },
  {
   "cell_type": "markdown",
   "metadata": {},
   "source": [
    "**Active**"
   ]
  },
  {
   "cell_type": "code",
   "execution_count": null,
   "metadata": {},
   "outputs": [],
   "source": [
    "random_todo_mvc.filter_active"
   ]
  },
  {
   "cell_type": "markdown",
   "metadata": {},
   "source": [
    "**Completed**"
   ]
  },
  {
   "cell_type": "code",
   "execution_count": null,
   "metadata": {},
   "outputs": [],
   "source": [
    "random_todo_mvc.filter_completed"
   ]
  }
 ],
 "metadata": {
  "kernelspec": {
   "display_name": "Ruby 2.7.0",
   "language": "ruby",
   "name": "ruby"
  },
  "language_info": {
   "file_extension": ".rb",
   "mimetype": "application/x-ruby",
   "name": "ruby",
   "version": "2.7.0"
  }
 },
 "nbformat": 4,
 "nbformat_minor": 4
}
