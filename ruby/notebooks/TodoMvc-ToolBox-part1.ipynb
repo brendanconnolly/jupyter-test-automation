{
 "cells": [
  {
   "cell_type": "markdown",
   "metadata": {},
   "source": [
    "# TodoMvc Testers Toolbox- Part 1 \n",
    "## Automation Enabled Testing\n",
    "\n",
    "**Inspired by Alan Richardson (@EvilTester) in his Test Automation U JavaScript Course**\n",
    "\n",
    "**[Automating in the Browser Using JavaScript](https://testautomationu.applitools.com/automating-in-the-browser-using-javascript/)**\n",
    "\n",
    "Instead of using JavaScript inside Chrome DevTools we'll use:\n",
    "- Jupyter Notebooks\n",
    "- Ruby\n",
    "- Watir (a Ruby Selenium Wrapper)\n",
    "\n",
    "To build a toolbox for the Tester while testing and run a bot "
   ]
  },
  {
   "cell_type": "markdown",
   "metadata": {},
   "source": [
    "#### Setup Watir & Selenium\n",
    "\n",
    "The cell below will need to be run before running any other cells"
   ]
  },
  {
   "cell_type": "code",
   "execution_count": 96,
   "metadata": {},
   "outputs": [
    {
     "data": {
      "text/plain": [
       "\"http://hub:4444/wd/hub\""
      ]
     },
     "execution_count": 96,
     "metadata": {},
     "output_type": "execute_result"
    }
   ],
   "source": [
    "require 'watir'\n",
    "todo_mvc_app_url= \"http://todomvc.com/examples/vanillajs/\"\n",
    "selenium_grid_host=\"http://hub:4444/wd/hub\"\n",
    "\n",
    "browser = Watir::Browser.new(:chrome, {url: selenium_grid_host})\n",
    "browser.goto todo_mvc_app_url"
   ]
  },
  {
   "cell_type": "markdown",
   "metadata": {},
   "source": [
    "## Add Todo\n",
    "\n",
    "**To add a new todo** set the value of `todo_text` in quotes then run cell"
   ]
  },
  {
   "cell_type": "code",
   "execution_count": 99,
   "metadata": {},
   "outputs": [],
   "source": [
    "todo_text=\"hello 2\"\n",
    "\n",
    "todo_text_box = browser.text_field(class: 'new-todo')\n",
    "todo_text_box.set(todo_text)\n",
    "todo_text_box.send_keys(:enter)"
   ]
  },
  {
   "cell_type": "markdown",
   "metadata": {},
   "source": [
    "## Update Todo\n",
    "\n",
    "**To Update** set the value of `update_todo_number` and/or `replacement_text` then run cell\n",
    "\n",
    "This will find the todo by numeric position the Replace text in input box using javascript \n",
    "\n"
   ]
  },
  {
   "cell_type": "code",
   "execution_count": null,
   "metadata": {},
   "outputs": [],
   "source": [
    "update_todo_number =2\n",
    "replacement_text =\"replacing todo #{update_todo_number} text\"\n",
    "\n",
    "todo_to_update= browser.element(css:\".todo-list li:nth-child(#{update_todo_number})\")\n",
    "todo_to_update.double_click\n",
    "\n",
    "update_value_script=\"\n",
    "var inputSelector ='ul.todo-list > li.editing > input.edit';\n",
    "document.querySelector(inputSelector).value='#{replacement_text}';\n",
    "document.querySelector(inputSelector).dispatchEvent(new Event('blur'));\"\n",
    "\n",
    "browser.execute_script(update_value_script)\n"
   ]
  },
  {
   "cell_type": "markdown",
   "metadata": {},
   "source": [
    "## Toggle All Todo's"
   ]
  },
  {
   "cell_type": "code",
   "execution_count": 104,
   "metadata": {},
   "outputs": [],
   "source": [
    "browser.element(id: \"toggle-all\").click"
   ]
  },
  {
   "cell_type": "markdown",
   "metadata": {},
   "source": [
    "## Delete a Todo\n",
    "**To Delete** set the value of `delete_todo_number` then run cell\n",
    "\n",
    "This will find the todo by numeric position then Hover over todo then click `x` button"
   ]
  },
  {
   "cell_type": "code",
   "execution_count": null,
   "metadata": {},
   "outputs": [],
   "source": [
    "delete_todo_number = 1\n",
    "\n",
    "browser.element(css: \".todo-list li:nth-child(#{delete_todo_number})\").hover\n",
    "browser.button(class: \"destroy\").click"
   ]
  },
  {
   "cell_type": "markdown",
   "metadata": {},
   "source": [
    "## Delete All Todos\n",
    "*This isn't visible functionality in the application*\n",
    "\n",
    "Using javascript command to clear local storage then refresh"
   ]
  },
  {
   "cell_type": "code",
   "execution_count": null,
   "metadata": {},
   "outputs": [],
   "source": [
    "browser.execute_script(\"localStorage.clear();\")\n",
    "browser.refresh()"
   ]
  },
  {
   "cell_type": "code",
   "execution_count": null,
   "metadata": {},
   "outputs": [],
   "source": []
  }
 ],
 "metadata": {
  "kernelspec": {
   "display_name": "Ruby 2.7.0",
   "language": "ruby",
   "name": "ruby"
  },
  "language_info": {
   "file_extension": ".rb",
   "mimetype": "application/x-ruby",
   "name": "ruby",
   "version": "2.7.0"
  }
 },
 "nbformat": 4,
 "nbformat_minor": 4
}
