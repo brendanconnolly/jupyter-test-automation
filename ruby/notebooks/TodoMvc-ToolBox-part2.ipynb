{
 "cells": [
  {
   "cell_type": "markdown",
   "metadata": {},
   "source": [
    "# TodoMvc Testers Toolbox - Part 2\n",
    "## Extending Existing Automation Code\n",
    "\n",
    "**Inspired by Alan Richardson (@EvilTester) in his Test Automation U JavaScript Course [Automating in the Browser Using JavaScript](https://testautomationu.applitools.com/automating-in-the-browser-using-javascript/)**\n",
    "\n",
    "Instead of using JavaScript inside Chrome DevTools we'll use:\n",
    "- Jupyter Notebooks\n",
    "- Ruby\n",
    "- Watir (a Ruby Selenium Wrapper)\n",
    "- Already written automation code"
   ]
  },
  {
   "cell_type": "markdown",
   "metadata": {},
   "source": [
    "#### Setup Watir & Selenium\n",
    "\n",
    "The cell below will need to be run before running any other cells"
   ]
  },
  {
   "cell_type": "code",
   "execution_count": 2,
   "metadata": {},
   "outputs": [
    {
     "data": {
      "text/plain": [
       "\"http://todomvc.com/examples/vanillajs/\""
      ]
     },
     "execution_count": 2,
     "metadata": {},
     "output_type": "execute_result"
    }
   ],
   "source": [
    "require './browser_helper.rb'\n",
    "require './notebook_helpers.rb'\n",
    "require '../lib/auto_todo_mvc_vanillajs.rb'\n",
    "\n",
    "todo_mvc_app_url= \"http://todomvc.com/examples/vanillajs/\"\n",
    "browser = launch_browser\n",
    "\n",
    "auto_todo= AutoTodoMvc.new(browser)\n",
    "browser.goto(todo_mvc_app_url)"
   ]
  },
  {
   "cell_type": "markdown",
   "metadata": {},
   "source": [
    "## Add Todo\n",
    "\n",
    "**To add a new todo** set the value of `todo_text` in quotes then run cell"
   ]
  },
  {
   "cell_type": "code",
   "execution_count": 12,
   "metadata": {},
   "outputs": [],
   "source": [
    "todo_text=\"hello auto\"\n",
    "\n",
    "auto_todo.add_todo(todo_text)"
   ]
  },
  {
   "cell_type": "markdown",
   "metadata": {},
   "source": [
    "## Update Todo\n",
    "\n",
    "**To Update** set the value of `update_todo_number` and/or `replacement_text` then run cell\n",
    "\n",
    "This will find the todo by numeric position the Replace text in input box using javascript \n",
    "\n"
   ]
  },
  {
   "cell_type": "code",
   "execution_count": 5,
   "metadata": {},
   "outputs": [],
   "source": [
    "update_todo_number =2\n",
    "replacement_text =\"replacing todo #{update_todo_number} text\"\n",
    "\n",
    "auto_todo.update_todo(update_todo_number,replacement_text)"
   ]
  },
  {
   "cell_type": "markdown",
   "metadata": {},
   "source": [
    "## Toggle Todo's\n",
    "**Toggle all**"
   ]
  },
  {
   "cell_type": "code",
   "execution_count": null,
   "metadata": {},
   "outputs": [],
   "source": [
    "auto_todo.toggle_all"
   ]
  },
  {
   "cell_type": "markdown",
   "metadata": {},
   "source": [
    "**Toggle by number**"
   ]
  },
  {
   "cell_type": "code",
   "execution_count": null,
   "metadata": {},
   "outputs": [
    {
     "name": "stdout",
     "output_type": "stream",
     "text": [
      "2020-07-08 16:33:25 WARN Selenium [DEPRECATION] Selenium::WebDriver::Error::ElementNotVisibleError is deprecated. Use Selenium::WebDriver::Error::ElementNotInteractableError (ensure the driver supports W3C WebDriver specification) instead.\n",
      "2020-07-08 16:33:25 WARN Selenium [DEPRECATION] Selenium::WebDriver::Error::InvalidElementStateError is deprecated. Use Selenium::WebDriver::Error::ElementNotInteractableError (ensure the driver supports W3C WebDriver specification) instead.\n"
     ]
    },
    {
     "ename": "Interrupt",
     "evalue": "",
     "output_type": "error",
     "traceback": [
      "\u001b[31mInterrupt\u001b[0m: ",
      "/usr/local/bundle/gems/watir-6.16.5/lib/watir/wait.rb:88:in `sleep'",
      "/usr/local/bundle/gems/watir-6.16.5/lib/watir/wait.rb:88:in `block in run_with_timer'",
      "/usr/local/bundle/gems/watir-6.16.5/lib/watir/wait/timer.rb:19:in `block in wait'",
      "/usr/local/bundle/gems/watir-6.16.5/lib/watir/wait/timer.rb:18:in `loop'",
      "/usr/local/bundle/gems/watir-6.16.5/lib/watir/wait/timer.rb:18:in `wait'",
      "/usr/local/bundle/gems/watir-6.16.5/lib/watir/wait.rb:86:in `run_with_timer'",
      "/usr/local/bundle/gems/watir-6.16.5/lib/watir/wait.rb:42:in `until'",
      "/usr/local/bundle/gems/watir-6.16.5/lib/watir/wait.rb:125:in `wait_until'",
      "/usr/local/bundle/gems/watir-6.16.5/lib/watir/elements/element.rb:664:in `wait_for_exists'",
      "/usr/local/bundle/gems/watir-6.16.5/lib/watir/elements/element.rb:688:in `wait_for_enabled'",
      "/usr/local/bundle/gems/watir-6.16.5/lib/watir/elements/element.rb:825:in `check_condition'",
      "/usr/local/bundle/gems/watir-6.16.5/lib/watir/elements/element.rb:787:in `element_call'",
      "/usr/local/bundle/gems/watir-6.16.5/lib/watir/elements/element.rb:145:in `click'",
      "/home/jovyan/work/lib/auto_todo_mvc_vanillajs.rb:37:in `toggle_todo'",
      "<main>:2:in `<main>'",
      "/home/jovyan/.gem/ruby/2.7.0/gems/iruby-0.4.0/lib/iruby/backend.rb:44:in `eval'",
      "/home/jovyan/.gem/ruby/2.7.0/gems/iruby-0.4.0/lib/iruby/backend.rb:44:in `eval'",
      "/home/jovyan/.gem/ruby/2.7.0/gems/iruby-0.4.0/lib/iruby/backend.rb:12:in `eval'",
      "/home/jovyan/.gem/ruby/2.7.0/gems/iruby-0.4.0/lib/iruby/kernel.rb:90:in `execute_request'",
      "/home/jovyan/.gem/ruby/2.7.0/gems/iruby-0.4.0/lib/iruby/kernel.rb:49:in `dispatch'",
      "/home/jovyan/.gem/ruby/2.7.0/gems/iruby-0.4.0/lib/iruby/kernel.rb:38:in `run'",
      "/home/jovyan/.gem/ruby/2.7.0/gems/iruby-0.4.0/lib/iruby/command.rb:110:in `run_kernel'",
      "/home/jovyan/.gem/ruby/2.7.0/gems/iruby-0.4.0/lib/iruby/command.rb:40:in `run'",
      "/home/jovyan/.gem/ruby/2.7.0/gems/iruby-0.4.0/bin/iruby:5:in `<top (required)>'",
      "/home/jovyan/.gem/ruby/2.7.0/bin/iruby:23:in `load'",
      "/home/jovyan/.gem/ruby/2.7.0/bin/iruby:23:in `<main>'"
     ]
    }
   ],
   "source": [
    "toggle_todo_number =2\n",
    "\n",
    "auto_todo.toggle_todo(toggle_todo_number)"
   ]
  },
  {
   "cell_type": "markdown",
   "metadata": {},
   "source": [
    "## Delete Todo\n",
    "**To Delete** set the value of `delete_todo_number` then run cell\n",
    "\n",
    "This will find the todo by numeric position then Hover over todo then click `x` button"
   ]
  },
  {
   "cell_type": "code",
   "execution_count": 8,
   "metadata": {},
   "outputs": [],
   "source": [
    "delete_todo_number = 1\n",
    "\n",
    "auto_todo.delete_todo(delete_todo_number)"
   ]
  },
  {
   "cell_type": "markdown",
   "metadata": {},
   "source": [
    "## Filter Todo's\n",
    "\n",
    "**All**"
   ]
  },
  {
   "cell_type": "code",
   "execution_count": 23,
   "metadata": {},
   "outputs": [],
   "source": [
    "auto_todo.filter_all"
   ]
  },
  {
   "cell_type": "markdown",
   "metadata": {},
   "source": [
    "**Active**"
   ]
  },
  {
   "cell_type": "code",
   "execution_count": null,
   "metadata": {},
   "outputs": [],
   "source": [
    "auto_todo.filter_active"
   ]
  },
  {
   "cell_type": "markdown",
   "metadata": {},
   "source": [
    "**Completed**"
   ]
  },
  {
   "cell_type": "code",
   "execution_count": null,
   "metadata": {},
   "outputs": [],
   "source": [
    "auto_todo.filter_completed"
   ]
  },
  {
   "cell_type": "markdown",
   "metadata": {},
   "source": [
    "## Clear Completed Todos"
   ]
  },
  {
   "cell_type": "code",
   "execution_count": null,
   "metadata": {},
   "outputs": [],
   "source": [
    "auto_todo.clear_completed_todos"
   ]
  },
  {
   "cell_type": "markdown",
   "metadata": {},
   "source": [
    "## Delete All Todos\n",
    "*This isn't visible functionality in the application*\n",
    "\n",
    "Using javascript command to clear local storage then refresh"
   ]
  },
  {
   "cell_type": "code",
   "execution_count": null,
   "metadata": {},
   "outputs": [],
   "source": [
    "browser.execute_script(\"localStorage.clear();\")\n",
    "browser.refresh()"
   ]
  }
 ],
 "metadata": {
  "kernelspec": {
   "display_name": "Ruby 2.7.0",
   "language": "ruby",
   "name": "ruby"
  },
  "language_info": {
   "file_extension": ".rb",
   "mimetype": "application/x-ruby",
   "name": "ruby",
   "version": "2.7.0"
  }
 },
 "nbformat": 4,
 "nbformat_minor": 4
}
