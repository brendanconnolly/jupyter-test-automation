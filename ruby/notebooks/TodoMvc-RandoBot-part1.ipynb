{
 "cells": [
  {
   "cell_type": "markdown",
   "metadata": {},
   "source": [
    "# TodoMvc RandoBot - Part 1\n",
    "## Create & Run Bot for Randomly Interacting with TodoMVC app\n",
    "\n",
    "**Inspired by Alan Richardson (@EvilTester) in his Test Automation U JavaScript Course**\n",
    "\n",
    "**[Automating in the Browser Using JavaScript](https://testautomationu.applitools.com/automating-in-the-browser-using-javascript/)**\n",
    "\n",
    "Instead of using JavaScript inside Chrome DevTools we'll use:\n",
    "- Jupyter Notebooks\n",
    "- Ruby\n",
    "- Watir (a Ruby Selenium Wrapper)\n",
    "- Already written automation code"
   ]
  },
  {
   "cell_type": "markdown",
   "metadata": {},
   "source": [
    "#### Setup Watir & Selenium\n",
    "\n",
    "The cell below will need to be run before running any other cells"
   ]
  },
  {
   "cell_type": "code",
   "execution_count": null,
   "metadata": {},
   "outputs": [],
   "source": [
    "require './browser_helper.rb'\n",
    "require './notebook_helpers.rb'\n",
    "require '../lib/random_todo_mvc.rb'\n",
    "\n",
    "todo_mvc_app_url= \"http://todomvc.com/examples/vanillajs/\"\n",
    "browser = launch_browser\n",
    "\n",
    "random_todo_mvc= RandomAutoTodoMvc.new(browser)\n",
    "browser.goto(todo_mvc_app_url)"
   ]
  },
  {
   "cell_type": "markdown",
   "metadata": {},
   "source": [
    "#### Get Random TodoMvc Action\n",
    "- Get list of RandomTodoMvc functions\n",
    "- Generate a Random Number between 0 and the number of `todo_functions`\n",
    "- Get the name of the randomly picked function"
   ]
  },
  {
   "cell_type": "code",
   "execution_count": null,
   "metadata": {},
   "outputs": [],
   "source": [
    "def get_random_todo_mvc_action\n",
    "    todo_functions=RandomAutoTodoMvc.instance_methods(false)\n",
    "    random_function_number =rand(todo_functions.count)\n",
    "    todo_functions[random_function_number]\n",
    "end"
   ]
  },
  {
   "cell_type": "markdown",
   "metadata": {},
   "source": [
    "## Run Bot\n",
    "\n",
    "We need to be a little more defensive now that we are randomly triggering actions\n",
    "\n",
    "Updated `AutoTodoMvc` to check if elements are present before attempting to click\n",
    "particularly buttons on the footer (filters, clear)\n",
    "\n",
    "**Run a single Random Action**"
   ]
  },
  {
   "cell_type": "code",
   "execution_count": null,
   "metadata": {},
   "outputs": [],
   "source": [
    "random_action= get_random_todo_mvc_action()\n",
    "puts \"Bot Do #{random_action}\"\n",
    "random_todo_mvc.public_send(random_action)\n",
    "\"Done\""
   ]
  },
  {
   "cell_type": "markdown",
   "metadata": {},
   "source": [
    "**Start Rando Bot**\n",
    "Run the cell below to start the bot"
   ]
  },
  {
   "cell_type": "code",
   "execution_count": null,
   "metadata": {
    "scrolled": true
   },
   "outputs": [],
   "source": [
    "run_bot_run=true\n",
    "\n",
    "thread= Thread.new {\n",
    "while run_bot_run do\n",
    "    random_action= get_random_todo_mvc_action()\n",
    "    puts \"Bot Do #{random_action}\"\n",
    "    random_todo_mvc.public_send(random_action)\n",
    "end\n",
    "}"
   ]
  },
  {
   "cell_type": "markdown",
   "metadata": {},
   "source": [
    "**Run the cell below to stop the bot**"
   ]
  },
  {
   "cell_type": "code",
   "execution_count": null,
   "metadata": {},
   "outputs": [],
   "source": [
    "run_bot_run=false\n",
    "thread.terminate"
   ]
  },
  {
   "cell_type": "markdown",
   "metadata": {},
   "source": [
    "### Exit the browser"
   ]
  },
  {
   "cell_type": "code",
   "execution_count": null,
   "metadata": {},
   "outputs": [],
   "source": [
    "browser.close"
   ]
  },
  {
   "cell_type": "code",
   "execution_count": null,
   "metadata": {},
   "outputs": [],
   "source": []
  }
 ],
 "metadata": {
  "kernelspec": {
   "display_name": "Ruby 2.7.0",
   "language": "ruby",
   "name": "ruby"
  },
  "language_info": {
   "file_extension": ".rb",
   "mimetype": "application/x-ruby",
   "name": "ruby",
   "version": "2.7.0"
  }
 },
 "nbformat": 4,
 "nbformat_minor": 4
}
