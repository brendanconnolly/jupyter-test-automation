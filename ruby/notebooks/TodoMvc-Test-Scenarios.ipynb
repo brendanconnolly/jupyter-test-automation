{
 "cells": [
  {
   "cell_type": "markdown",
   "metadata": {},
   "source": [
    "# TodoMvc Test Scenarios\n",
    "## Using Automation to Setup for Testing\n",
    "\n",
    "**Inspired by Alan Richardson (@EvilTester) in his Test Automation U JavaScript Course**\n",
    "\n",
    "**[Automating in the Browser Using JavaScript](https://testautomationu.applitools.com/automating-in-the-browser-using-javascript/)**\n",
    "\n",
    "Instead of using JavaScript inside Chrome DevTools we'll use:\n",
    "- Jupyter Notebooks\n",
    "- Ruby\n",
    "- Watir (a Ruby Selenium Wrapper)\n",
    "- Already written automation code"
   ]
  },
  {
   "cell_type": "markdown",
   "metadata": {},
   "source": [
    "#### Setup Watir & Selenium\n",
    "\n",
    "The cell below will need to be run before running any other cells"
   ]
  },
  {
   "cell_type": "code",
   "execution_count": 7,
   "metadata": {
    "jupyter": {
     "source_hidden": true
    }
   },
   "outputs": [
    {
     "data": {
      "text/plain": [
       "\"http://todomvc.com/examples/vanillajs/\""
      ]
     },
     "execution_count": 7,
     "metadata": {},
     "output_type": "execute_result"
    }
   ],
   "source": [
    "require './browser_helper.rb'\n",
    "require './notebook_helpers.rb'\n",
    "require '../lib/random_todo_mvc.rb'\n",
    "\n",
    "todo_mvc_app_url= \"http://todomvc.com/examples/vanillajs/\"\n",
    "\n",
    "browser = launch_browser\n",
    "random_todo_mvc= RandomAutoTodoMvc.new(browser)\n",
    "\n",
    "browser.goto(todo_mvc_app_url)"
   ]
  },
  {
   "cell_type": "markdown",
   "metadata": {},
   "source": [
    "## Test With A Large Number of Todos\n",
    "\n",
    "**To change the number of Todos** set the value of `number_of_todos` then run cell to start generating todos"
   ]
  },
  {
   "cell_type": "code",
   "execution_count": null,
   "metadata": {
    "jupyter": {
     "source_hidden": true
    }
   },
   "outputs": [],
   "source": [
    "number_of_todos =100\n",
    "\n",
    "number_of_todos.times do\n",
    "    random_todo_mvc.create_random_todo\n",
    "end"
   ]
  },
  {
   "cell_type": "markdown",
   "metadata": {},
   "source": [
    "**You can use cell below to take notes**"
   ]
  },
  {
   "cell_type": "code",
   "execution_count": null,
   "metadata": {
    "jupyter": {
     "source_hidden": true
    }
   },
   "outputs": [],
   "source": []
  },
  {
   "cell_type": "markdown",
   "metadata": {},
   "source": [
    "## Test with Large Number of Todos\n",
    "#### Some Completed / Some Not\n",
    "**To change the number of Todos** set the value of `number_of_todos` then run cell to start generating todos"
   ]
  },
  {
   "cell_type": "code",
   "execution_count": null,
   "metadata": {
    "jupyter": {
     "source_hidden": true
    }
   },
   "outputs": [],
   "source": [
    "number_of_todos =100\n",
    "\n",
    "number_of_todos.times do\n",
    "    random_todo_mvc.create_random_todo\n",
    "    random_todo_mvc.toggle_random_todo\n",
    "end\n",
    "\n",
    "number_of_todos.times do\n",
    "   \n",
    "end"
   ]
  },
  {
   "cell_type": "markdown",
   "metadata": {},
   "source": [
    "**You can use cell below to take notes**"
   ]
  },
  {
   "cell_type": "markdown",
   "metadata": {},
   "source": []
  },
  {
   "cell_type": "markdown",
   "metadata": {},
   "source": [
    "### Run Cell Below to clear all Todo data"
   ]
  },
  {
   "cell_type": "code",
   "execution_count": null,
   "metadata": {
    "jupyter": {
     "source_hidden": true
    }
   },
   "outputs": [],
   "source": [
    "browser.execute_script(\"localStorage.clear();\")\n",
    "browser.refresh()"
   ]
  }
 ],
 "metadata": {
  "kernelspec": {
   "display_name": "Ruby 2.7.0",
   "language": "ruby",
   "name": "ruby"
  },
  "language_info": {
   "file_extension": ".rb",
   "mimetype": "application/x-ruby",
   "name": "ruby",
   "version": "2.7.0"
  }
 },
 "nbformat": 4,
 "nbformat_minor": 4
}
