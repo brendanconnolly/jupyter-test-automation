{
 "cells": [
  {
   "cell_type": "markdown",
   "metadata": {},
   "source": [
    "# TodoMvc Randomizing Input - Part 1\n",
    "## Generating Data While Testing Using Existing Automation Code\n",
    "\n",
    "**Inspired by Alan Richardson (@EvilTester) in his Test Automation U JavaScript Course**\n",
    "\n",
    "**[Automating in the Browser Using JavaScript](https://testautomationu.applitools.com/automating-in-the-browser-using-javascript/)**\n",
    "\n",
    "Instead of using JavaScript inside Chrome DevTools we'll use:\n",
    "- Jupyter Notebooks\n",
    "- Ruby\n",
    "- Watir (a Ruby Selenium Wrapper)\n",
    "- Already written automation code"
   ]
  },
  {
   "cell_type": "markdown",
   "metadata": {},
   "source": [
    "#### Setup Watir & Selenium\n",
    "\n",
    "The cell below will need to be run before running any other cells"
   ]
  },
  {
   "cell_type": "code",
   "execution_count": null,
   "metadata": {},
   "outputs": [],
   "source": [
    "require './browser_helper.rb'\n",
    "require './notebook_helpers.rb'\n",
    "require '../lib/auto_todo_mvc_vanillajs.rb'\n",
    "\n",
    "todo_mvc_app_url= \"http://todomvc.com/examples/vanillajs/\"\n",
    "browser = launch_browser\n",
    "\n",
    "auto_todo= AutoTodoMvc.new(browser)\n",
    "browser.goto(todo_mvc_app_url)"
   ]
  },
  {
   "cell_type": "markdown",
   "metadata": {},
   "source": [
    "Shared method to pick a Todo at random, if no todo's print `no todo's to choose from`"
   ]
  },
  {
   "cell_type": "code",
   "execution_count": null,
   "metadata": {},
   "outputs": [],
   "source": [
    "def get_random_todo_index(browser)\n",
    "    \n",
    "    todo_count =browser.elements(css: 'ul.todo-list li').count\n",
    "    puts \"todo count = #{todo_count}\"\n",
    "    random_todo_index=0\n",
    "    \n",
    "    if(todo_count == 0)\n",
    "        puts \"no todo's to choose from\"\n",
    "    else\n",
    "        random_todo_index=rand(1..todo_count) \n",
    "    end\n",
    "    puts \"chose #{random_todo_index} \"\n",
    "    random_todo_index\n",
    "end\n"
   ]
  },
  {
   "cell_type": "markdown",
   "metadata": {},
   "source": [
    "## Create Random Todo\n"
   ]
  },
  {
   "cell_type": "code",
   "execution_count": null,
   "metadata": {},
   "outputs": [],
   "source": [
    "time_in_milli_seconds = (Time.now.to_f * 1000).to_i\n",
    "todo_text= \"Random Todo #{time_in_milli_seconds}\"\n",
    "\n",
    "auto_todo.add_todo(todo_text)"
   ]
  },
  {
   "cell_type": "markdown",
   "metadata": {},
   "source": [
    "## Update Random Todo\n"
   ]
  },
  {
   "cell_type": "code",
   "execution_count": null,
   "metadata": {},
   "outputs": [],
   "source": [
    "random_todo_index = get_random_todo_index(browser)\n",
    "\n",
    "if random_todo_index >0\n",
    "    time_in_milli_seconds = (Time.now.to_f * 1000).to_i\n",
    "    replacement_text =\"update todo #{random_todo_index} - #{time_in_milli_seconds}\"\n",
    "\n",
    "    puts \"updated todo #{random_todo_index}\"\n",
    "    auto_todo.update_todo(random_todo_index,replacement_text)\n",
    "end"
   ]
  },
  {
   "cell_type": "markdown",
   "metadata": {},
   "source": [
    "## Toggle Todo's\n",
    "**Toggle all**"
   ]
  },
  {
   "cell_type": "code",
   "execution_count": null,
   "metadata": {},
   "outputs": [],
   "source": [
    "auto_todo.toggle_all"
   ]
  },
  {
   "cell_type": "markdown",
   "metadata": {},
   "source": [
    "**Toggle by number**"
   ]
  },
  {
   "cell_type": "code",
   "execution_count": null,
   "metadata": {},
   "outputs": [],
   "source": [
    "toggle_todo_number =2\n",
    "\n",
    "auto_todo.toggle_todo(toggle_todo_number)"
   ]
  },
  {
   "cell_type": "markdown",
   "metadata": {},
   "source": [
    "## Delete Random Todo\n"
   ]
  },
  {
   "cell_type": "code",
   "execution_count": null,
   "metadata": {},
   "outputs": [],
   "source": [
    "random_todo_index = get_random_todo_index(browser)\n",
    "\n",
    "if random_todo_index >0\n",
    "    puts \"deleting todo #{random_todo_index}\"\n",
    "    browser.element(css: \".todo-list li:nth-child(#{random_todo_index})\").hover\n",
    "    browser.element(css: \".todo-list li:nth-child(#{random_todo_index}) button.destroy\").click\n",
    "end"
   ]
  },
  {
   "cell_type": "markdown",
   "metadata": {},
   "source": [
    "## Filter Todo's\n",
    "\n",
    "**All**"
   ]
  },
  {
   "cell_type": "code",
   "execution_count": null,
   "metadata": {},
   "outputs": [],
   "source": [
    "auto_todo.filter_all"
   ]
  },
  {
   "cell_type": "markdown",
   "metadata": {},
   "source": [
    "**Active**"
   ]
  },
  {
   "cell_type": "code",
   "execution_count": null,
   "metadata": {},
   "outputs": [],
   "source": [
    "auto_todo.filter_active"
   ]
  },
  {
   "cell_type": "markdown",
   "metadata": {},
   "source": [
    "**Completed**"
   ]
  },
  {
   "cell_type": "code",
   "execution_count": null,
   "metadata": {},
   "outputs": [],
   "source": [
    "auto_todo.filter_completed"
   ]
  },
  {
   "cell_type": "markdown",
   "metadata": {},
   "source": [
    "## Clear Completed Todos"
   ]
  },
  {
   "cell_type": "code",
   "execution_count": null,
   "metadata": {},
   "outputs": [],
   "source": [
    "auto_todo.clear_completed_todos"
   ]
  },
  {
   "cell_type": "code",
   "execution_count": null,
   "metadata": {},
   "outputs": [],
   "source": []
  }
 ],
 "metadata": {
  "kernelspec": {
   "display_name": "Ruby 2.7.0",
   "language": "ruby",
   "name": "ruby"
  },
  "language_info": {
   "file_extension": ".rb",
   "mimetype": "application/x-ruby",
   "name": "ruby",
   "version": "2.7.0"
  }
 },
 "nbformat": 4,
 "nbformat_minor": 4
}
